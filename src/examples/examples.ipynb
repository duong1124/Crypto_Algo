{
 "cells": [
  {
   "cell_type": "markdown",
   "id": "762b5507",
   "metadata": {},
   "source": [
    "# Check directory\n",
    "Desired directory located at **\\src**"
   ]
  },
  {
   "cell_type": "code",
   "execution_count": 3,
   "id": "5d6efd72",
   "metadata": {},
   "outputs": [
    {
     "name": "stdout",
     "output_type": "stream",
     "text": [
      "d:\\HUST\\Semesters\\2024.2\\LTMM\\Project Cryptography\\src\\examples\n"
     ]
    }
   ],
   "source": [
    "import os\n",
    "print(os.getcwd())"
   ]
  },
  {
   "cell_type": "code",
   "execution_count": 4,
   "id": "11485f8c",
   "metadata": {},
   "outputs": [
    {
     "name": "stdout",
     "output_type": "stream",
     "text": [
      "Current working directory: d:\\HUST\\Semesters\\2024.2\\LTMM\\Project Cryptography\\src\n"
     ]
    }
   ],
   "source": [
    "desired_path = r'd:\\HUST\\Semesters\\2024.2\\LTMM\\Project Cryptography\\src'\n",
    "os.chdir(desired_path)\n",
    "\n",
    "print(\"Current working directory:\", os.getcwd())\n"
   ]
  },
  {
   "cell_type": "code",
   "execution_count": 5,
   "id": "f5a28705",
   "metadata": {},
   "outputs": [],
   "source": [
    "from utils import *"
   ]
  },
  {
   "cell_type": "markdown",
   "id": "3991c629",
   "metadata": {},
   "source": [
    "# DES"
   ]
  },
  {
   "cell_type": "code",
   "execution_count": 5,
   "id": "9640c76e",
   "metadata": {},
   "outputs": [
    {
     "name": "stdout",
     "output_type": "stream",
     "text": [
      "Plain text size: 64 bits\n",
      "Key size: 64 bits\n",
      "Round 1: L: 18CA18AD, R: 5A78E394, Key: 194CD072DE8C\n",
      "Round 2: L: 5A78E394, R: 4A1210F6, Key: 4568581ABCCE\n",
      "Round 3: L: 4A1210F6, R: B8089591, Key: 06EDA4ACF5B5\n",
      "Round 4: L: B8089591, R: 236779C2, Key: DA2D032B6EE3\n",
      "Round 5: L: 236779C2, R: A15A4B87, Key: 69A629FEC913\n",
      "Round 6: L: A15A4B87, R: 2E8F9C65, Key: C1948E87475E\n",
      "Round 7: L: 2E8F9C65, R: A9FC20A3, Key: 708AD2DDB3C0\n",
      "Round 8: L: A9FC20A3, R: 308BEE97, Key: 34F822F0C66D\n",
      "Round 9: L: 308BEE97, R: 10AF9D37, Key: 84BB4473DCCC\n",
      "Round 10: L: 10AF9D37, R: 6CA6CB20, Key: 02765708B5BF\n",
      "Round 11: L: 6CA6CB20, R: FF3C485F, Key: 6D5560AF7CA5\n",
      "Round 12: L: FF3C485F, R: 22A5963B, Key: C2C1E96A4BF3\n",
      "Round 13: L: 22A5963B, R: 387CCDAA, Key: 99C31397C91F\n",
      "Round 14: L: 387CCDAA, R: BD2DD2AB, Key: 251B8BC717D0\n",
      "Round 15: L: BD2DD2AB, R: CF26B472, Key: 3330C5D9A36D\n",
      "Round 16: L: 19BA9212, R: CF26B472, Key: 181C5D75C66D\n",
      "Ciphertext: C0B7A8D05F3A829C\n",
      "Round 1: L: CF26B472, R: BD2DD2AB, Key: 181C5D75C66D\n",
      "Round 2: L: BD2DD2AB, R: 387CCDAA, Key: 3330C5D9A36D\n",
      "Round 3: L: 387CCDAA, R: 22A5963B, Key: 251B8BC717D0\n",
      "Round 4: L: 22A5963B, R: FF3C485F, Key: 99C31397C91F\n",
      "Round 5: L: FF3C485F, R: 6CA6CB20, Key: C2C1E96A4BF3\n",
      "Round 6: L: 6CA6CB20, R: 10AF9D37, Key: 6D5560AF7CA5\n",
      "Round 7: L: 10AF9D37, R: 308BEE97, Key: 02765708B5BF\n",
      "Round 8: L: 308BEE97, R: A9FC20A3, Key: 84BB4473DCCC\n",
      "Round 9: L: A9FC20A3, R: 2E8F9C65, Key: 34F822F0C66D\n",
      "Round 10: L: 2E8F9C65, R: A15A4B87, Key: 708AD2DDB3C0\n",
      "Round 11: L: A15A4B87, R: 236779C2, Key: C1948E87475E\n",
      "Round 12: L: 236779C2, R: B8089591, Key: 69A629FEC913\n",
      "Round 13: L: B8089591, R: 4A1210F6, Key: DA2D032B6EE3\n",
      "Round 14: L: 4A1210F6, R: 5A78E394, Key: 06EDA4ACF5B5\n",
      "Round 15: L: 5A78E394, R: 18CA18AD, Key: 4568581ABCCE\n",
      "Round 16: L: 14A7D678, R: 18CA18AD, Key: 194CD072DE8C\n",
      "Decrypted text: 123456ABCD132536\n"
     ]
    }
   ],
   "source": [
    "from algorithms import DES\n",
    "\n",
    "plaintext = \"123456ABCD132536\"\n",
    "plaintext = hex2bin(plaintext)\n",
    "print(f\"Plain text size: {len(plaintext)} bits\")\n",
    "\n",
    "key = \"AABB09182736CCDD\"\n",
    "\n",
    "keyb = hex2bin(key)\n",
    "print(f\"Key size: {len(keyb)} bits\")\n",
    "\n",
    "des = DES()\n",
    "ciphertext = des.encrypt(plaintext, keyb, print_round_text=True)\n",
    "print(f\"Ciphertext: {bin2hex(ciphertext)}\")\n",
    "decrypted_text = des.decrypt(ciphertext, keyb, print_round_text=True)\n",
    "print(f\"Decrypted text: {bin2hex(decrypted_text)}\")"
   ]
  },
  {
   "cell_type": "markdown",
   "id": "60ad8de2",
   "metadata": {},
   "source": [
    "# 3DES"
   ]
  },
  {
   "cell_type": "code",
   "execution_count": null,
   "id": "b0e4162a",
   "metadata": {},
   "outputs": [],
   "source": [
    "from algorithms import TripleDES\n",
    "\n",
    "tdes = TripleDES()\n",
    "\n",
    "plaintext = \"123456ABCD132536\" \n",
    "plaintext = hex2bin(plaintext)\n",
    "print(f\"Plain text size: {len(plaintext)} bits\")\n",
    "\n",
    "k1 = 'AABB09182736CCDD'\n",
    "# Randomly mutate the key from k1 using a seed value\n",
    "k2 = tdes.mutate_key(k1, seed = 1)\n",
    "k3 = tdes.mutate_key(k1, seed = 2) \n",
    "\n",
    "k1b = hex2bin(k1)\n",
    "k2b = hex2bin(k2)\n",
    "k3b = hex2bin(k3)\n",
    "\n",
    "cipher = tdes.encrypt(plaintext, k1b, k2b, k3b)\n",
    "print(\"Encrypted:\", bin2hex(cipher))\n",
    "\n",
    "decrypted = tdes.decrypt(cipher, k1b, k2b, k3b)\n",
    "print(\"Decrypted:\", bin2hex(decrypted))"
   ]
  },
  {
   "cell_type": "markdown",
   "id": "1561870d",
   "metadata": {},
   "source": [
    "# AES"
   ]
  },
  {
   "cell_type": "code",
   "execution_count": null,
   "id": "009ba637",
   "metadata": {},
   "outputs": [],
   "source": [
    "from algorithms import AES\n",
    "\n",
    "input_bytes = bytearray(b\"exampleplaintext\") # 16 bytes\n",
    "key = bytearray(b\"thisisakey123456\")         # 16 bytes\n",
    "key_size = 16                                # Key size in bytes\n",
    "\n",
    "aes = AES()\n",
    "\n",
    "encrypted_data = AES.encrypt(input_bytes, key, key_size)\n",
    "print(\"Encrypted:\", encrypted_data)\n",
    "\n",
    "decrypted_data = AES.decrypt(encrypted_data, key, key_size)\n",
    "print(\"Decrypted:\", decrypted_data)"
   ]
  },
  {
   "cell_type": "markdown",
   "id": "3eb7a1c7",
   "metadata": {},
   "source": [
    "# RSA"
   ]
  },
  {
   "cell_type": "code",
   "execution_count": null,
   "id": "eaf5df54",
   "metadata": {},
   "outputs": [],
   "source": [
    "from algorithms import RSA\n",
    "\n",
    "plaintext = \"hello\"\n",
    "p, q = generate_prime_pair(bit_size=32)\n",
    "#p, q = 7, 13 # for testing\n",
    "print(f\"Generated primes: p = {p}, q = {q}\")\n",
    "\n",
    "rsa = RSA()\n",
    "public_key, private_key = rsa.generate_keys(p, q)\n",
    "\n",
    "print(\"------------------------ONE AT A TIME------------------------\")\n",
    "test_ciphertext = rsa.encrypt(plaintext, public_key, text=False, one_at_a_time=True)\n",
    "print(f\"Ciphertext: {test_ciphertext}\")\n",
    "\n",
    "test_decrypted = rsa.decrypt(test_ciphertext, private_key, text=False)\n",
    "print(f\"Decrypted: {test_decrypted}\")\n",
    "\n",
    "print(\"------------------------CONCAT------------------------\")\n",
    "true_ciphertext = rsa.encrypt(plaintext, public_key, text=False, one_at_a_time=False)\n",
    "print(f\"Ciphertext: {true_ciphertext}\")\n",
    "\n",
    "true_decrypted = rsa.decrypt(true_ciphertext, private_key, text=False)\n",
    "print(f\"Decrypted: {true_decrypted}\")"
   ]
  },
  {
   "cell_type": "markdown",
   "id": "f1317abc",
   "metadata": {},
   "source": [
    "# ECC"
   ]
  },
  {
   "cell_type": "code",
   "execution_count": null,
   "id": "c428a69a",
   "metadata": {},
   "outputs": [],
   "source": [
    "from algorithms import ECC_GF2n, ECC_GFp\n",
    "from tests import ECCTester\n",
    "\n",
    "def test_ecc():\n",
    "    tester = ECCTester()\n",
    "    tester.run_all_tests()\n",
    "\n",
    "# Test ECC tests\n",
    "ECC_test = ECCTester()\n",
    "ECC_test.run_all_tests()\n",
    "\n",
    "# ECC algorithms encryption and decryption\n",
    "\n",
    "#plaintext = \"\"\n",
    "#key?\n",
    "ECC_p = ECC_GFp()\n",
    "#ECC_p_ciphertext = ECC_p.encrypt()?\n",
    "#decrypt?\n",
    "\n",
    "ECC_2n = ECC_GF2n()\n",
    "#ECC_2n_ciphertext = ECC_GF2n.encrypt()?\n",
    "#decrypt?"
   ]
  },
  {
   "cell_type": "markdown",
   "id": "60dc1cf2",
   "metadata": {},
   "source": [
    "# SHA - 512"
   ]
  },
  {
   "cell_type": "code",
   "execution_count": null,
   "id": "edfd0dbb",
   "metadata": {},
   "outputs": [],
   "source": [
    "from algorithms import SHA_512\n",
    "\n",
    "#Message block\n",
    "\n",
    "TC1_block = [0x6162638000000000, 0x0000000000000000, 0x0000000000000000, 0x0000000000000000,\n",
    "            0x0000000000000000, 0x0000000000000000, 0x0000000000000000, 0x0000000000000000,\n",
    "            0x0000000000000000, 0x0000000000000000, 0x0000000000000000, 0x0000000000000000,\n",
    "            0x0000000000000000, 0x0000000000000000, 0x0000000000000000, 0x0000000000000018]\n",
    "\n",
    "sha512 = SHA_512(verbose= 1)\n",
    "sha512.sha512_encrypt(TC1_block)\n",
    "TC1_expected = [0xDDAF35A193617ABA, 0xCC417349AE204131, 0x12E6FA4E89A97EA2, 0x0A9EEEE64B55D39A,\n",
    "                0x2192992A274FC1A8, 0x36BA3C23A3FEEBBD, 0x454D4423643CE80E, 0x2A9AC94FA54CA49F]\n",
    "sha512_compare_digests(sha512.H, TC1_expected)"
   ]
  },
  {
   "cell_type": "markdown",
   "id": "e0d167fe",
   "metadata": {},
   "source": [
    "# Brute Force Attack"
   ]
  },
  {
   "cell_type": "code",
   "execution_count": 12,
   "id": "1a586565",
   "metadata": {},
   "outputs": [
    {
     "name": "stdout",
     "output_type": "stream",
     "text": [
      "Generating test case...\n",
      "Plaintext: 123456ABCD132536\n",
      "Original Key: AABB09182736CCDD\n",
      "Ciphertext: 1100000010110111101010001101000001011111001110101000001010011100\n",
      "C0B7A8D05F3A829C\n",
      "\n",
      "Starting brute force attack with 1000 attempts...\n",
      "\n",
      "No key found after 1000 attempts\n",
      "Time taken: 0.02 seconds\n",
      "\n",
      "Attack failed to find the key within the attempt limit\n"
     ]
    }
   ],
   "source": [
    "from examples.brute_force_attack import BruteForceAttack\n",
    "\n",
    "from algorithms import DES\n",
    "des = DES()\n",
    "\n",
    "# Example of brute force attack on DES\n",
    "test = BruteForceAttack(des)\n",
    "\n",
    "test.demonstrate_brute_force(max_attempts = 1000)"
   ]
  }
 ],
 "metadata": {
  "kernelspec": {
   "display_name": "crypto",
   "language": "python",
   "name": "python3"
  },
  "language_info": {
   "codemirror_mode": {
    "name": "ipython",
    "version": 3
   },
   "file_extension": ".py",
   "mimetype": "text/x-python",
   "name": "python",
   "nbconvert_exporter": "python",
   "pygments_lexer": "ipython3",
   "version": "3.13.2"
  }
 },
 "nbformat": 4,
 "nbformat_minor": 5
}
